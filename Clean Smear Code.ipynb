{
 "cells": [
  {
   "cell_type": "code",
   "execution_count": null,
   "metadata": {},
   "outputs": [],
   "source": [
    "import cv2\n",
    "import numpy as np\n",
    "import os\n",
    "from IPython.display import Image\n",
    "import matplotlib.pyplot as plt\n",
    "import copy\n",
    "from IPython import get_ipython"
   ]
  },
  {
   "cell_type": "code",
   "execution_count": null,
   "metadata": {},
   "outputs": [],
   "source": [
    "#path vars\n",
    "cam0path = 'sample_drive/cam_0'\n",
    "cam1path = 'sample_drive/cam_1'\n",
    "cam2path = 'sample_drive/cam_2'\n",
    "cam3path = 'sample_drive/cam_3'\n",
    "cam5path = 'sample_drive/cam_5'"
   ]
  },
  {
   "cell_type": "code",
   "execution_count": null,
   "metadata": {},
   "outputs": [],
   "source": [
    "#image arrays\n",
    "cam0ims = []\n",
    "cam1ims = []\n",
    "cam2ims = []\n",
    "cam3ims = []\n",
    "cam5ims = []"
   ]
  },
  {
   "cell_type": "code",
   "execution_count": null,
   "metadata": {},
   "outputs": [],
   "source": [
    "def modify(p,arr):\n",
    "    #convert to grayscale, equalize, blur, then average, and convert to int\n",
    "    for f in os.listdir(p):\n",
    "        i = cv2.imread(os.path.join(p,f))\n",
    "        if i is not None:\n",
    "            grayed = cv2.cvtColor(i, cv2.COLOR_BGR2GRAY)\n",
    "            equalized = cv2.equalizeHist(grayed)\n",
    "            blurred = cv2.GaussianBlur(equalized, (3, 3), 0)\n",
    "            arr.append(blurred)\n",
    "    l=len(arr)\n",
    "    i = 1\n",
    "    avg = arr[0]/l\n",
    "    while (i < l):\n",
    "        avg = cv2.add(avg,arr[i]/l)\n",
    "        i += 1\n",
    "    avg = avg.astype('uint8')\n",
    "    del arr\n",
    "    #cv2.imwrite(p+'/mean_image.jpg',avg)\n",
    "    cv2.imwrite('sample_drive/'+p[-1]+'_mean_image.jpg',avg)\n",
    "    return avg"
   ]
  },
  {
   "cell_type": "code",
   "execution_count": null,
   "metadata": {},
   "outputs": [],
   "source": [
    "def postprocess(p,image,kernel1,kernel2):\n",
    "    adapt = cv2.adaptiveThreshold(image,255,cv2.ADAPTIVE_THRESH_MEAN_C,cv2.THRESH_BINARY,125,10)\n",
    "    temp = cv2.bitwise_not(adapt)\n",
    "    erosion = cv2.erode(temp,np.ones((kernel1,kernel1),np.uint8),iterations = 5)\n",
    "    dilation = cv2.dilate(erosion,np.ones((kernel2,kernel2),np.uint8),iterations = 4)\n",
    "    ####\n",
    "    cv2.imwrite('sample_drive/'+p[-1]+'_intermediate_image.jpg',dilation)\n",
    "    return dilation"
   ]
  },
  {
   "cell_type": "code",
   "execution_count": null,
   "metadata": {},
   "outputs": [],
   "source": [
    "def findcontours(p,image):\n",
    "    #convert gray image back to grayscale\n",
    "    backtorgb = cv2.cvtColor(image,cv2.COLOR_GRAY2RGB)\n",
    "    thresh, im_bw = cv2.threshold(image, 127, 255, cv2.THRESH_BINARY) #im_bw: binary image\n",
    "    im3, contours, hierarchy = cv2.findContours(im_bw,cv2.RETR_TREE, cv2.CHAIN_APPROX_NONE)\n",
    "    cv2.drawContours(backtorgb, contours, -1, (0,255,0), 3)\n",
    "    cv2.imwrite('sample_drive/'+p[-1]+'_contour_image.jpg',backtorgb)\n",
    "    return backtorgb\n",
    "    #plt.imshow(backtorgb,cmap='gray')"
   ]
  },
  {
   "cell_type": "markdown",
   "metadata": {},
   "source": []
  },
  {
   "cell_type": "markdown",
   "metadata": {},
   "source": [
    "## Camera 0"
   ]
  },
  {
   "cell_type": "code",
   "execution_count": null,
   "metadata": {},
   "outputs": [],
   "source": [
    "#my_variables = set(dir())\n",
    "#------------------------\n",
    "temp = modify(cam0path,cam0ims)\n",
    "final = postprocess(cam0path,temp,10,7)\n",
    "findcontours(cam0path,final)\n",
    "#plt.imshow(temp,cmap='gray')\n",
    "#------------------------\n",
    "# my_variables = list(set(dir()) - my_variables)\n",
    "# get_ipython().magic('%reset_selective -f [{}]'.format(','.join(my_variables)))\n",
    "del temp\n",
    "del final\n",
    "del cam0ims"
   ]
  },
  {
   "cell_type": "markdown",
   "metadata": {},
   "source": [
    "## Camera 1"
   ]
  },
  {
   "cell_type": "code",
   "execution_count": null,
   "metadata": {},
   "outputs": [],
   "source": [
    "#------------------------\n",
    "temp = modify(cam1path,cam1ims)\n",
    "final = postprocess(cam1path,temp,2,8)\n",
    "findcontours(cam1path,final)\n",
    "#plt.imshow(temp,cmap='gray')\n",
    "#------------------------\n",
    "del temp\n",
    "del final\n",
    "del cam1ims"
   ]
  },
  {
   "cell_type": "markdown",
   "metadata": {},
   "source": [
    "## Camera 2"
   ]
  },
  {
   "cell_type": "code",
   "execution_count": null,
   "metadata": {},
   "outputs": [],
   "source": [
    "\n",
    "#------------------------\n",
    "temp = modify(cam2path,cam2ims)\n",
    "final = postprocess(cam2path,temp,10,9)\n",
    "findcontours(cam2path,final)\n",
    "#plt.imshow(temp,cmap='gray')\n",
    "#------------------------\n",
    "del temp\n",
    "del final\n",
    "del cam2ims"
   ]
  },
  {
   "cell_type": "markdown",
   "metadata": {},
   "source": [
    "## Camera 3"
   ]
  },
  {
   "cell_type": "code",
   "execution_count": null,
   "metadata": {},
   "outputs": [],
   "source": [
    "#------------------------\n",
    "temp = modify(cam3path,cam3ims)\n",
    "final = postprocess(cam3path,temp,5,7)\n",
    "findcontours(cam3path,final)\n",
    "#plt.imshow(temp,cmap='gray')\n",
    "#------------------------\n",
    "del temp\n",
    "del final\n",
    "del cam3ims"
   ]
  },
  {
   "cell_type": "markdown",
   "metadata": {},
   "source": [
    "## Camera 5"
   ]
  },
  {
   "cell_type": "code",
   "execution_count": null,
   "metadata": {},
   "outputs": [],
   "source": [
    "#------------------------\n",
    "temp = modify(cam5path,cam5ims)\n",
    "final = postprocess(cam5path,temp,2,8)\n",
    "findcontours(cam5path,final)\n",
    "#plt.imshow(temp,cmap='gray')\n",
    "#------------------------\n",
    "del temp\n",
    "del final\n",
    "del cam5ims"
   ]
  }
 ],
 "metadata": {
  "kernelspec": {
   "display_name": "Python 3",
   "language": "python",
   "name": "python3"
  },
  "language_info": {
   "codemirror_mode": {
    "name": "ipython",
    "version": 3
   },
   "file_extension": ".py",
   "mimetype": "text/x-python",
   "name": "python",
   "nbconvert_exporter": "python",
   "pygments_lexer": "ipython3",
   "version": "3.6.5"
  }
 },
 "nbformat": 4,
 "nbformat_minor": 2
}
